{
 "cells": [
  {
   "cell_type": "code",
   "execution_count": 85,
   "metadata": {
    "collapsed": false
   },
   "outputs": [],
   "source": [
    "import madxmodule\n",
    "import numpy as np\n",
    "import pandas as pd\n",
    "\n",
    "import time\n",
    "s1 = time.time()\n",
    "# setting bump amplitude\n",
    "bumpamplist = [0.000]\n",
    "npart = 50\n",
    "\n",
    "basefilelist=[['lhcb1-twiss-emd.tfs']]\n",
    "errorstringlist=['']\n",
    "corrlist = np.array(['MCBCH.7R2.B1', 'MCBCH.9R2.B1', 'MCBH.13R2.B1'])\n",
    "\n",
    "# twiss file list\n",
    "basetwissfilelist = [[madxmodule.Twiss('lhcb1',basefilelist[j][i],targetxc=bumpamplist[j],IPcycle='IP2',\n",
    "                        targetel=\"MQ.11R2.B1\",\n",
    "                        correctorlist=corrlist,errorseq=errorstringlist[i],\n",
    "                        twisscols=madxmodule.MADtwissColumns[\"LHCTwiss\"],\n",
    "                        beam=[madxmodule.MADX_Beam(1,seq='LHCB1',energy=82.*7000.),\n",
    "                              madxmodule.MADX_Beam(2,seq='LHCB2',energy=82.*7000.)])\n",
    "                    for i in range(len(basefilelist[j]))] for j in range(len(basefilelist))]\n"
   ]
  },
  {
   "cell_type": "code",
   "execution_count": 89,
   "metadata": {
    "collapsed": false
   },
   "outputs": [],
   "source": [
    "# initial parameters for BFPP\n",
    "initialdictlist = [[madxmodule.get_initial(fn,madxmodule.dpPb(-1,0)) for fn in basetwissfilelist[i]] \n",
    "                   for i in range(len(basetwissfilelist))]  \n",
    "\n",
    "fileextlist = [['noerr-0p0']]\n",
    "\n",
    "transfermatrixfilelist = [\n",
    "    [madxmodule.TransferMatrix('LHCB1','IP2','E.DS.R2.B1',initialdictlist[j][i],bumpamplist[j],\"MQ.11R2.B1\",\n",
    "                               corrlist,IPcycle='IP2',errorseq=errorstringlist[i],fileext=fileextlist[j][i],\n",
    "                              beam=[madxmodule.MADX_Beam(1,seq='LHCB1',energy=82.*7000.),\n",
    "                                    madxmodule.MADX_Beam(2,seq='LHCB2',energy=82.*7000.)]\n",
    "                             ) for i in range(len(basetwissfilelist[j]))] for j in range(len(basefilelist))]\n"
   ]
  },
  {
   "cell_type": "code",
   "execution_count": 91,
   "metadata": {
    "collapsed": true
   },
   "outputs": [],
   "source": [
    "# writing transfermatrixfilelist to file for importing and plotting\n",
    "dftransfermatrixfilelist       = [pd.DataFrame(pd.Series(data=transfermatrixfilelist[j]),columns=['filename']) \n",
    "                                  for j in range(len(transfermatrixfilelist))]"
   ]
  },
  {
   "cell_type": "code",
   "execution_count": 138,
   "metadata": {
    "collapsed": false
   },
   "outputs": [
    {
     "name": "stdout",
     "output_type": "stream",
     "text": [
      "419.3260424\n"
     ]
    }
   ],
   "source": [
    "for j in range(len(dftransfermatrixfilelist)):\n",
    "    dftransfermatrixfilelist[j].to_csv('transfermatrixfilenamelist'+ str(j) +'.csv',index=False)\n",
    "\n",
    "opt         = madxmodule.io.tfsDict(basetwissfilelist[0][0])\n",
    "prevelinex  = opt[0][\"name\"].index(\"LECL.11R2.B1\")-1\n",
    "s0          = opt[0]['s'][prevelinex]\n",
    "print s0"
   ]
  },
  {
   "cell_type": "code",
   "execution_count": 182,
   "metadata": {
    "collapsed": false
   },
   "outputs": [
    {
     "name": "stdout",
     "output_type": "stream",
     "text": [
      "MCS.B11R2.B1\n",
      "DRIFT_57\n",
      "LECL.11R2.B1\n"
     ]
    }
   ],
   "source": [
    "# generating the filenames for storing the impactdistributions\n",
    "impactfilelist    = [['impactIP2right_bp22_' + ext for ext in fileextlist[j]] for j in range(len(fileextlist))]\n",
    "impactfilelistext = [[fn+'.csv' for fn in impactfilelist[j]] for j in range(len(impactfilelist))]\n",
    "\n",
    "dfimpactfilelist  = [pd.DataFrame(pd.Series(data=impactfilelistext[j]),columns=['filename']) \n",
    "                     for j in range(len(impactfilelist))]\n",
    "\n",
    "npart=50000\n",
    "for j in range(len(transfermatrixfilelist)):\n",
    "    for i in range(len(transfermatrixfilelist[j])):\n",
    "        coordlist = madxmodule.TrackSigmaMatrix(transfermatrixfilelist[j][i],'LECL.11R2.B1',\n",
    "                                                initialdictlist[j][i],npart)"
   ]
  },
  {
   "cell_type": "code",
   "execution_count": 184,
   "metadata": {
    "collapsed": false
   },
   "outputs": [],
   "source": [
    "frontcollface = 3757.3775 # value provided by Cristina\n",
    "s = frontcollface- (df[df['NAME']=='IP2']['S'].values- df[df['NAME']=='IP1']['S'].values \\\n",
    "+ df[df['NAME']=='LHCB1IP2_P_']['S'].values)-s0\n",
    " \n",
    "distr = [np.dot(madxmodule.Mdrift6D(s),coordlist[i]) for i in range(len(coordlist))]"
   ]
  },
  {
   "cell_type": "code",
   "execution_count": 217,
   "metadata": {
    "collapsed": false
   },
   "outputs": [],
   "source": [
    "deltam = -const.neutron_mass * const.c**2/const.value('electron volt-joule relationship')/10**9\n",
    "p0 =  madxmodule.get_p(transfermatrixfilelist[0][0])\n",
    "mass = madxmodule.ionmass\n",
    "delta = madxmodule.dpPb(-1,0)\n",
    "\n",
    "distr = np.array(distr)\n",
    "xcol  = pd.Series(data=distr[:,0])*1000\n",
    "pxcol = pd.Series(data=distr[:,1])\n",
    "ycol  = pd.Series(data=distr[:,2])\n",
    "pycol = pd.Series(data=distr[:,3])\n",
    "tcol  = pd.Series(data=distr[:,4])\n",
    "ptcol = pd.Series(data=distr[:,5])\n",
    "# Ecol  = pd.Series(data=\n",
    "#                       np.sqrt((mass + deltam)**2 + (p0 * (1 + distr[:,5] - delta) * \\\n",
    "#                                                                (1 + deltam/mass))**2)) \n",
    "\n",
    "outdf             = pd.DataFrame(xcol,columns=['x[mm]'])\n",
    "outdf['px[1e-3]'] = pd.Series(data=pxcol)*1000\n",
    "outdf['y[mm]']    = pd.Series(data=ycol)*1000\n",
    "outdf['py[1e-3]'] = pd.Series(data=pycol)*1000\n",
    "outdf['t']        = pd.Series(data=tcol)# *1.e-9*const.c\n",
    "outdf['pt']       = pd.Series(data=ptcol) \n",
    "outdf.to_csv('emdat3757p3775' + '.csv',index=False)\n",
    "outdf['x[mm]'].hist(bins=100)\n",
    "plt.show()"
   ]
  },
  {
   "cell_type": "markdown",
   "metadata": {},
   "source": [
    "# Plotting to see the EMD beam"
   ]
  },
  {
   "cell_type": "code",
   "execution_count": 180,
   "metadata": {
    "collapsed": false
   },
   "outputs": [],
   "source": [
    "plt.hist(coordlist[:,4],bins=50)\n",
    "plt.show()"
   ]
  },
  {
   "cell_type": "markdown",
   "metadata": {},
   "source": [
    "# Checking the tfs files and plotting to see trajectory EMD"
   ]
  },
  {
   "cell_type": "code",
   "execution_count": 115,
   "metadata": {
    "collapsed": false
   },
   "outputs": [],
   "source": [
    "import pandas as pd\n",
    "df =pd.read_csv('lhcb1-twiss-emd.tfs',skiprows=range(47),delim_whitespace=True,names =madxmodule.MADtwissColumns[\"RMatrixExtended\"])"
   ]
  },
  {
   "cell_type": "code",
   "execution_count": 219,
   "metadata": {
    "collapsed": false
   },
   "outputs": [],
   "source": [
    "df2 = pd.read_csv(transfermatrixfilelist[0][0],skiprows=range(47),delim_whitespace=True,names =madxmodule.MADtwissColumns[\"RMatrixExtended\"])"
   ]
  },
  {
   "cell_type": "code",
   "execution_count": 221,
   "metadata": {
    "collapsed": false
   },
   "outputs": [],
   "source": [
    "import pandas as pd\n",
    "import csv\n",
    "import numpy as np\n",
    "import scipy as sc\n",
    "import collections\n",
    "import glob\n",
    "import subprocess\n",
    "import datetime\n",
    "\n",
    "from matplotlib import pyplot as plt\n",
    "from matplotlib import rc, rcParams\n",
    "from matplotlib.patches import Rectangle\n",
    "\n",
    "from itertools import islice\n",
    "from scipy import constants as const\n",
    "df2.plot(x='S',y='X')\n",
    "df2.plot(x='S',y='Y',color='red')\n",
    "plt.show()"
   ]
  },
  {
   "cell_type": "code",
   "execution_count": null,
   "metadata": {
    "collapsed": true
   },
   "outputs": [],
   "source": [
    "df3 = df2.set_index('S')[['X','Y']]\n",
    "df3.plot(figsize=(16,8),grid=True,xticks=range(0,540,20))\n",
    "plt.xlabel('s[m] from IP2 (right side)')\n",
    "plt.ylabel('x,y [mm]')\n",
    "plt.title('EMD beam right of IP2')\n",
    "# plt.savefig('EMD_IP2_right.png',format='png')\n",
    "plt.show()"
   ]
  }
 ],
 "metadata": {
  "kernelspec": {
   "display_name": "Python 2",
   "language": "python",
   "name": "python2"
  },
  "language_info": {
   "codemirror_mode": {
    "name": "ipython",
    "version": 2
   },
   "file_extension": ".py",
   "mimetype": "text/x-python",
   "name": "python",
   "nbconvert_exporter": "python",
   "pygments_lexer": "ipython2",
   "version": "2.7.11"
  }
 },
 "nbformat": 4,
 "nbformat_minor": 0
}
